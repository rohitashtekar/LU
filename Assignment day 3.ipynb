{
 "cells": [
  {
   "cell_type": "markdown",
   "metadata": {},
   "source": [
    "# Assignment day 3"
   ]
  },
  {
   "cell_type": "raw",
   "metadata": {},
   "source": [
    "Question 1:"
   ]
  },
  {
   "cell_type": "code",
   "execution_count": 1,
   "metadata": {},
   "outputs": [
    {
     "name": "stdout",
     "output_type": "stream",
     "text": [
      "[ 2  5  8 11 14 17 20 23 26 29 32 35 38 41 44 47 50]\n"
     ]
    }
   ],
   "source": [
    "import numpy as np\n",
    "\n",
    "arr1 = np.arange(2,51)\n",
    "\n",
    "print(arr1[0:50:3])"
   ]
  },
  {
   "cell_type": "raw",
   "metadata": {},
   "source": [
    "Question 2:"
   ]
  },
  {
   "cell_type": "code",
   "execution_count": 12,
   "metadata": {},
   "outputs": [
    {
     "name": "stdout",
     "output_type": "stream",
     "text": [
      "23r\n",
      "433\n",
      "t45\n",
      "23\n",
      "1\n",
      "f34t\n",
      "5y\n",
      "34t\n",
      "56u\n",
      "t3\n",
      "[['1'], ['23'], ['23r'], ['433'], ['t45']]\n",
      "[['34t'], ['56u'], ['5y'], ['f34t'], ['t3']]\n",
      "['1']['23']['23r']['433']['t45']['34t']['56u']['5y']['f34t']['t3']\n"
     ]
    }
   ],
   "source": [
    "import numpy as np\n",
    "\n",
    "lis = []\n",
    "lis1 = []\n",
    "\n",
    "while len(lis) < 5:\n",
    "    n = raw_input()\n",
    "    n1 = n.split(\" \")\n",
    "    lis.append(n1)\n",
    "    \n",
    "while len(lis1) < 5:\n",
    "    a = raw_input()\n",
    "    b = a.split(\" \")\n",
    "    lis1.append(b)\n",
    "    \n",
    "    \n",
    "lis.sort()\n",
    "lis1.sort()\n",
    "print(lis)\n",
    "print(lis1)\n",
    "arr = np.array(lis)\n",
    "arr1 = np.array(lis1)\n",
    "arr2 = np.concatenate([arr,arr1])\n",
    "\n",
    "print(''.join(map(str,arr2)))"
   ]
  },
  {
   "cell_type": "raw",
   "metadata": {},
   "source": [
    "Question 3:"
   ]
  },
  {
   "cell_type": "code",
   "execution_count": 21,
   "metadata": {},
   "outputs": [
    {
     "name": "stdout",
     "output_type": "stream",
     "text": [
      "(3L, 4L)\n",
      "2\n"
     ]
    }
   ],
   "source": [
    "import numpy as np\n",
    "\n",
    "a = np.array([[11 ,12,13,11], [21, 22, 23, 24], [31,32,33,34]])\n",
    "\n",
    "print(a.shape)\n",
    "print(a.ndim)"
   ]
  },
  {
   "cell_type": "raw",
   "metadata": {},
   "source": [
    "Question 4:"
   ]
  },
  {
   "cell_type": "code",
   "execution_count": 44,
   "metadata": {},
   "outputs": [
    {
     "name": "stdout",
     "output_type": "stream",
     "text": [
      "[1 2 3 4 5 6]\n",
      "\n",
      "\n",
      "[[1 2]\n",
      " [3 4]\n",
      " [5 6]]\n"
     ]
    }
   ],
   "source": [
    "import numpy as np\n",
    "\n",
    "a = np.array([1,2,3,4,5,6])\n",
    "b = np.reshape(a, (-1, 2))\n",
    "print(A)\n",
    "print(\"\\n\")\n",
    "print(B)"
   ]
  },
  {
   "cell_type": "code",
   "execution_count": 45,
   "metadata": {},
   "outputs": [
    {
     "name": "stdout",
     "output_type": "stream",
     "text": [
      "[1 2]\n",
      "\n",
      "\n",
      "[[1]\n",
      " [2]]\n"
     ]
    }
   ],
   "source": [
    "x = x = np.array([1, 2])\n",
    "y = np.expand_dims(x, axis=1)\n",
    "\n",
    "print(x)\n",
    "print(\"\\n\")\n",
    "print(y)"
   ]
  },
  {
   "cell_type": "code",
   "execution_count": 51,
   "metadata": {},
   "outputs": [
    {
     "name": "stdout",
     "output_type": "stream",
     "text": [
      "(10L,)\n",
      "(10L, 1L)\n"
     ]
    }
   ],
   "source": [
    "import numpy as np\n",
    "\n",
    "a = np.arange(10)\n",
    "print(a.shape)\n",
    "b = a[:, np.newaxis].shape\n",
    "print(b)"
   ]
  },
  {
   "cell_type": "raw",
   "metadata": {},
   "source": [
    "Question 5:"
   ]
  },
  {
   "cell_type": "code",
   "execution_count": 53,
   "metadata": {},
   "outputs": [
    {
     "name": "stdout",
     "output_type": "stream",
     "text": [
      "[[1 1]\n",
      " [2 2]\n",
      " [3 3]\n",
      " [4 4]]\n",
      "\n",
      "\n",
      "[[1 1 3 3]\n",
      " [2 2 4 4]]\n"
     ]
    }
   ],
   "source": [
    "a = np.array([1,  2,  3,  4,  5,  6,  7,  8,  9, 10])\n",
    "\n",
    "a1 = np.array([[1, 1], [2, 2]])\n",
    "a2 = np.array([[3, 3],[4, 4]])\n",
    "\n",
    "ver = np.vstack((a1, a2))\n",
    "hor= np.hstack((a1, a2))\n",
    "print(ver)\n",
    "print(\"\\n\")\n",
    "print(hor)"
   ]
  },
  {
   "cell_type": "raw",
   "metadata": {},
   "source": [
    "Question 6:"
   ]
  },
  {
   "cell_type": "code",
   "execution_count": 56,
   "metadata": {},
   "outputs": [
    {
     "name": "stdout",
     "output_type": "stream",
     "text": [
      "[10 20 30 40]\n"
     ]
    }
   ],
   "source": [
    "import numpy as np \n",
    "  \n",
    "def unique(list1): \n",
    "    x = np.array(list1) \n",
    "    print(np.unique(x)) \n",
    "    \n",
    "list1 = [10, 20, 10, 30, 40, 40]        \n",
    "unique(list1) "
   ]
  },
  {
   "cell_type": "raw",
   "metadata": {},
   "source": [
    "take an empty array and a count variable(set to be zero). We traverse from the start and check the items. If the item is not in the empty list(as it has taken empty) then we will add it to the empty list and increase the counter by 1. While traveling if the item is in the taken list(empty list) we will not count it."
   ]
  }
 ],
 "metadata": {
  "kernelspec": {
   "display_name": "Python 2",
   "language": "python",
   "name": "python2"
  },
  "language_info": {
   "codemirror_mode": {
    "name": "ipython",
    "version": 2
   },
   "file_extension": ".py",
   "mimetype": "text/x-python",
   "name": "python",
   "nbconvert_exporter": "python",
   "pygments_lexer": "ipython2",
   "version": "2.7.15"
  }
 },
 "nbformat": 4,
 "nbformat_minor": 2
}
