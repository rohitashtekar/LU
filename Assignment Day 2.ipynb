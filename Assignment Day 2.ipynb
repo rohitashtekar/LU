{
 "cells": [
  {
   "cell_type": "markdown",
   "metadata": {},
   "source": [
    "Question 1:"
   ]
  },
  {
   "cell_type": "code",
   "execution_count": 8,
   "metadata": {},
   "outputs": [
    {
     "name": "stdout",
     "output_type": "stream",
     "text": [
      "34\n",
      "56\n",
      "7\n",
      "5\n",
      "4\n",
      "33\n",
      "32\n",
      "5\n",
      "7\n",
      "8\n",
      "[34, 56, 4, 32, 8]\n"
     ]
    }
   ],
   "source": [
    "List = []\n",
    "\n",
    "for i in range(0,10):\n",
    "    n = int(input())\n",
    "    if n % 2 == 0:\n",
    "        List.append(n)\n",
    "print(List)"
   ]
  },
  {
   "cell_type": "markdown",
   "metadata": {},
   "source": [
    "Question 2:"
   ]
  },
  {
   "cell_type": "code",
   "execution_count": 11,
   "metadata": {},
   "outputs": [
    {
     "name": "stdout",
     "output_type": "stream",
     "text": [
      "[1, 2, 3, 4, 5, 6]\n",
      "[0, 1, 2, 3, 4, 5, 6, 7]\n",
      "[0, 1, 2, 3, 4, 5, 6, 7, 'Rohit', 'Ashtekar']\n"
     ]
    }
   ],
   "source": [
    "List1 = [1,2,3]\n",
    "\n",
    "List1.append(4)\n",
    "List1.append(5)\n",
    "List1.append(6)\n",
    "print(List1)\n",
    "\n",
    "List1.insert(0,0)\n",
    "List1.insert(8,7)\n",
    "print(List1)\n",
    "\n",
    "List1.extend(['Rohit','Ashtekar'])\n",
    "print(List1)"
   ]
  },
  {
   "cell_type": "markdown",
   "metadata": {},
   "source": [
    "Question 3:"
   ]
  },
  {
   "cell_type": "code",
   "execution_count": 24,
   "metadata": {},
   "outputs": [
    {
     "name": "stdout",
     "output_type": "stream",
     "text": [
      "8\n",
      "{1: 1, 2: 4, 3: 9, 4: 16, 5: 25, 6: 36, 7: 49, 8: 64}\n"
     ]
    }
   ],
   "source": [
    "dict1 = {}\n",
    "\n",
    "n = int(input())\n",
    "for i in range(1,n+1):\n",
    "    dict1[i] = i * i\n",
    "    i = i + 1\n",
    "print(dict1)\n",
    "    "
   ]
  },
  {
   "cell_type": "markdown",
   "metadata": {},
   "source": [
    "Question 4:"
   ]
  },
  {
   "cell_type": "code",
   "execution_count": null,
   "metadata": {},
   "outputs": [],
   "source": [
    "import math\n",
    "pos = [0,0]\n",
    "n = int(input())\n",
    "for i in range(0,n):\n",
    "    s = str(input(\"Enter Steps:     \"))\n",
    "    if not s:\n",
    "        break\n",
    "    movement = s.split(\" \")\n",
    "    direction = movement[0]\n",
    "    steps = int(movement[1])\n",
    "    if direction==\"UP\":\n",
    "        pos[0]+=steps\n",
    "    elif direction==\"DOWN\":\n",
    "        pos[0]-=steps\n",
    "    elif direction==\"LEFT\":\n",
    "        pos[1]-=steps\n",
    "    elif direction==\"RIGHT\":\n",
    "        pos[1]+=steps\n",
    "    else:\n",
    "        pass\n",
    "    \n",
    "print(round(math.sqrt(pos[1]**2+pos[0]**2)))"
   ]
  },
  {
   "cell_type": "code",
   "execution_count": null,
   "metadata": {},
   "outputs": [],
   "source": []
  }
 ],
 "metadata": {
  "kernelspec": {
   "display_name": "Python 2",
   "language": "python",
   "name": "python2"
  },
  "language_info": {
   "codemirror_mode": {
    "name": "ipython",
    "version": 2
   },
   "file_extension": ".py",
   "mimetype": "text/x-python",
   "name": "python",
   "nbconvert_exporter": "python",
   "pygments_lexer": "ipython2",
   "version": "2.7.15"
  }
 },
 "nbformat": 4,
 "nbformat_minor": 2
}
